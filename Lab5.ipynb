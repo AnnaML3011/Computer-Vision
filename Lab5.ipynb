{
 "cells": [
  {
   "cell_type": "code",
   "execution_count": 0,
   "metadata": {
    "id": "QZw-bGD0NZMT",
    "colab_type": "code",
    "colab": {}
   },
   "outputs": [],
   "source": [
    "import torch\n",
    "import numpy as np\n",
    "import matplotlib.pyplot as plt\n",
    "import torch.nn as nn\n",
    "import torch.nn.functional as F\n",
    "import torchvision\n",
    "%matplotlib inline"
   ]
  },
  {
   "cell_type": "code",
   "execution_count": 2,
   "metadata": {
    "id": "Rdl7QMpw7y_e",
    "colab_type": "code",
    "outputId": "0bffb260-9b2b-4366-b3bf-f553256d3456",
    "colab": {
     "base_uri": "https://localhost:8080/",
     "height": 282.0
    }
   },
   "outputs": [
    {
     "data": {
      "text/plain": [
       "<matplotlib.image.AxesImage at 0x7f2a29f74a20>"
      ]
     },
     "execution_count": 2,
     "metadata": {
      "tags": []
     },
     "output_type": "execute_result"
    },
    {
     "data": {
      "image/png": "[encoded data removed]",
      "text/plain": [
       "<Figure size 432x288 with 1 Axes>"
      ]
     },
     "metadata": {
      "tags": [],
      "needs_background": "light"
     },
     "output_type": "display_data"
    }
   ],
   "source": [
    "trainset = torchvision.datasets.MNIST(root = '', train = True, download=True);\n",
    "num_classes = len(trainset.classes)\n",
    "idx = np.random.randint(trainset.data.shape[0])\n",
    "plt.imshow(trainset.data[idx], cmap = \"gray\")"
   ]
  },
  {
   "cell_type": "code",
   "execution_count": 0,
   "metadata": {
    "id": "0HOFyLTqX-uG",
    "colab_type": "code",
    "colab": {}
   },
   "outputs": [],
   "source": [
    "class mnistModel(nn.Module):\n",
    "    def __init__(self, feature_size):\n",
    "        super(mnistModel, self).__init__()\n",
    "        self.fc1 = nn.Linear(in_features=feature_size ,out_features = 128)\n",
    "        self.fc2 = nn.Linear(in_features=128 ,out_features = 64)                              \n",
    "        self.fc3 = nn.Linear(in_features=64 ,out_features = 10)\n",
    "\n",
    "    def forward(self, x):\n",
    "        x = x.view(x.shape[0], -1)\n",
    "        x = self.fc1(x)\n",
    "        x = F.relu(x)\n",
    "        x = self.fc2(x)\n",
    "        x = F.relu(x)\n",
    "        x = self.fc3(x)\n",
    "        y = torch.sigmoid(x)\n",
    "        return y"
   ]
  },
  {
   "cell_type": "code",
   "execution_count": 4,
   "metadata": {
    "id": "4vfT8wGg_AzU",
    "colab_type": "code",
    "outputId": "91bf0646-d2fa-4029-8365-f602714ab6cc",
    "colab": {
     "base_uri": "https://localhost:8080/",
     "height": 50.0
    }
   },
   "outputs": [
    {
     "data": {
      "text/plain": [
       "tensor([[0.5334, 0.4936, 0.4862, 0.4981, 0.5091, 0.4819, 0.5239, 0.5117, 0.5177,\n",
       "         0.4742]], grad_fn=<SigmoidBackward>)"
      ]
     },
     "execution_count": 4,
     "metadata": {
      "tags": []
     },
     "output_type": "execute_result"
    }
   ],
   "source": [
    "random_img = trainset.data[idx]/255.\n",
    "h ,w = random_img.size()\n",
    "model = mnistModel (h*w)\n",
    "t =random_img[:, : ,np.newaxis]\n",
    "t = t.permute([2,0,1])\n",
    "model(t)"
   ]
  },
  {
   "cell_type": "code",
   "execution_count": 0,
   "metadata": {
    "id": "DXXvFs-6gG1r",
    "colab_type": "code",
    "colab": {}
   },
   "outputs": [],
   "source": [
    "class LeNet(nn.Module): \n",
    "    #dim_after_conv = input_size -(filter_zise - 1)\n",
    "    #dim_after_max_pool = input_size /2 \n",
    "\n",
    "    # size of input image :  28x28x1\n",
    "\n",
    "    # after first conv2d : 28 - (5 -1) = 24\n",
    "    # img size : 24x24x6\n",
    "\n",
    "    # after max_pool :24/2 = 12\n",
    "    # img size = 12x12x6\n",
    "\n",
    "    #after 2nd comv2d : 12 - (5-1) = 8\n",
    "    #img size : 8x8x16\n",
    "\n",
    "    # after max_pool :8/2= 4\n",
    "    # img size = 4x4x16\n",
    "\n",
    "    def __init__(self):\n",
    "        super(LeNet ,self).__init__()\n",
    "        self.conv1 = nn.Conv2d(in_channels=1, out_channels=6, kernel_size=5)\n",
    "        self.conv2 = nn.Conv2d(in_channels=6, out_channels=16, kernel_size=5)\n",
    "        self.fc1 = nn.Linear(in_features=16*4*4 ,out_features = 120)\n",
    "        self.fc2 = nn.Linear(in_features=120 ,out_features = 84)                              \n",
    "        self.fc3 = nn.Linear(in_features=84 ,out_features = 10)\n",
    "\n",
    "    def forward(self, x):\n",
    "        x = self.conv1(x)\n",
    "    \n",
    "        x = F.relu(x)\n",
    "        x = F.max_pool2d(x ,2)\n",
    "\n",
    "        x = self.conv2(x)\n",
    "        x = F.relu(x)\n",
    "        x = F.max_pool2d(x, 2)\n",
    "        \n",
    "        x = x.view(x.shape[0], -1)\n",
    "        x = self.fc1(x)\n",
    "        x = F.relu(x)\n",
    "\n",
    "        x = self.fc2(x)\n",
    "        x = F.relu(x)\n",
    "\n",
    "        x = self.fc3(x)\n",
    "        x = F.relu(x)\n",
    "        x = F.softmax(x,dim = 1)\n",
    "        return x"
   ]
  },
  {
   "cell_type": "code",
   "execution_count": 6,
   "metadata": {
    "id": "0Z4LA8RsIv_s",
    "colab_type": "code",
    "outputId": "995884b1-5eff-481e-8010-c730d101c05e",
    "colab": {
     "base_uri": "https://localhost:8080/",
     "height": 50.0
    }
   },
   "outputs": [
    {
     "data": {
      "text/plain": [
       "tensor([[0.0998, 0.1019, 0.0998, 0.0998, 0.0998, 0.0998, 0.0998, 0.0998, 0.0998,\n",
       "         0.0998]], grad_fn=<SoftmaxBackward>)"
      ]
     },
     "execution_count": 6,
     "metadata": {
      "tags": []
     },
     "output_type": "execute_result"
    }
   ],
   "source": [
    "conv_img = random_img[np.newaxis , np.newaxis , :]\n",
    "conv_img.shape\n",
    "lene = LeNet()\n",
    "lene(conv_img)"
   ]
  }
 ],
 "metadata": {
  "colab": {
   "name": "lab5.ipynb",
   "provenance": [],
   "collapsed_sections": []
  },
  "kernelspec": {
   "name": "python3",
   "display_name": "Python 3"
  }
 },
 "nbformat": 4,
 "nbformat_minor": 0
}
